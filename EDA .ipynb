{
 "cells": [
  {
   "cell_type": "code",
   "execution_count": 2,
   "id": "99882c19",
   "metadata": {},
   "outputs": [
    {
     "data": {
      "text/html": [
       "<div>\n",
       "<style scoped>\n",
       "    .dataframe tbody tr th:only-of-type {\n",
       "        vertical-align: middle;\n",
       "    }\n",
       "\n",
       "    .dataframe tbody tr th {\n",
       "        vertical-align: top;\n",
       "    }\n",
       "\n",
       "    .dataframe thead th {\n",
       "        text-align: right;\n",
       "    }\n",
       "</style>\n",
       "<table border=\"1\" class=\"dataframe\">\n",
       "  <thead>\n",
       "    <tr style=\"text-align: right;\">\n",
       "      <th></th>\n",
       "      <th>Format.[Format]</th>\n",
       "      <th>Version.[Version Name]</th>\n",
       "      <th>Time.[Week]</th>\n",
       "      <th>Sales Domain.[Channel]</th>\n",
       "      <th>Location.[Location]</th>\n",
       "      <th>Item.[Planning Item]</th>\n",
       "      <th>Item.[Division]</th>\n",
       "      <th>Total Sales Units</th>\n",
       "      <th>ASP</th>\n",
       "    </tr>\n",
       "  </thead>\n",
       "  <tbody>\n",
       "    <tr>\n",
       "      <th>0</th>\n",
       "      <td>FOL</td>\n",
       "      <td>CurrentWorkingView</td>\n",
       "      <td>Jan WK01 2021</td>\n",
       "      <td>CLEARANCE</td>\n",
       "      <td>1028</td>\n",
       "      <td>ADEF0309|OWNTHEGAME K</td>\n",
       "      <td>FOOTWEAR</td>\n",
       "      <td>1</td>\n",
       "      <td>227.62</td>\n",
       "    </tr>\n",
       "    <tr>\n",
       "      <th>1</th>\n",
       "      <td>FOL</td>\n",
       "      <td>CurrentWorkingView</td>\n",
       "      <td>Jan WK01 2021</td>\n",
       "      <td>CLEARANCE</td>\n",
       "      <td>1041</td>\n",
       "      <td>ADEF0309|OWNTHEGAME K</td>\n",
       "      <td>FOOTWEAR</td>\n",
       "      <td>1</td>\n",
       "      <td>227.62</td>\n",
       "    </tr>\n",
       "    <tr>\n",
       "      <th>2</th>\n",
       "      <td>FOL</td>\n",
       "      <td>CurrentWorkingView</td>\n",
       "      <td>Jan WK01 2021</td>\n",
       "      <td>CLEARANCE</td>\n",
       "      <td>1403</td>\n",
       "      <td>ADEF0309|OWNTHEGAME K</td>\n",
       "      <td>FOOTWEAR</td>\n",
       "      <td>1</td>\n",
       "      <td>227.62</td>\n",
       "    </tr>\n",
       "    <tr>\n",
       "      <th>3</th>\n",
       "      <td>FOL</td>\n",
       "      <td>CurrentWorkingView</td>\n",
       "      <td>Jan WK01 2021</td>\n",
       "      <td>CLEARANCE</td>\n",
       "      <td>1004</td>\n",
       "      <td>ADFW4566|OWNTHEGAME K</td>\n",
       "      <td>FOOTWEAR</td>\n",
       "      <td>1</td>\n",
       "      <td>227.62</td>\n",
       "    </tr>\n",
       "    <tr>\n",
       "      <th>4</th>\n",
       "      <td>FOL</td>\n",
       "      <td>CurrentWorkingView</td>\n",
       "      <td>Jan WK01 2021</td>\n",
       "      <td>CLEARANCE</td>\n",
       "      <td>1071</td>\n",
       "      <td>ADFW4566|OWNTHEGAME K</td>\n",
       "      <td>FOOTWEAR</td>\n",
       "      <td>1</td>\n",
       "      <td>227.62</td>\n",
       "    </tr>\n",
       "  </tbody>\n",
       "</table>\n",
       "</div>"
      ],
      "text/plain": [
       "  Format.[Format] Version.[Version Name]    Time.[Week]  \\\n",
       "0             FOL     CurrentWorkingView  Jan WK01 2021   \n",
       "1             FOL     CurrentWorkingView  Jan WK01 2021   \n",
       "2             FOL     CurrentWorkingView  Jan WK01 2021   \n",
       "3             FOL     CurrentWorkingView  Jan WK01 2021   \n",
       "4             FOL     CurrentWorkingView  Jan WK01 2021   \n",
       "\n",
       "  Sales Domain.[Channel] Location.[Location]   Item.[Planning Item]  \\\n",
       "0              CLEARANCE                1028  ADEF0309|OWNTHEGAME K   \n",
       "1              CLEARANCE                1041  ADEF0309|OWNTHEGAME K   \n",
       "2              CLEARANCE                1403  ADEF0309|OWNTHEGAME K   \n",
       "3              CLEARANCE                1004  ADFW4566|OWNTHEGAME K   \n",
       "4              CLEARANCE                1071  ADFW4566|OWNTHEGAME K   \n",
       "\n",
       "  Item.[Division]  Total Sales Units     ASP  \n",
       "0        FOOTWEAR                  1  227.62  \n",
       "1        FOOTWEAR                  1  227.62  \n",
       "2        FOOTWEAR                  1  227.62  \n",
       "3        FOOTWEAR                  1  227.62  \n",
       "4        FOOTWEAR                  1  227.62  "
      ]
     },
     "execution_count": 2,
     "metadata": {},
     "output_type": "execute_result"
    }
   ],
   "source": [
    "import pandas as pd \n",
    "import numpy as np\n",
    "# read csv using pandas\n",
    "data = pd.read_csv('stock.csv')\n",
    "\n",
    "# check the head of dataframe\n",
    "data.head()"
   ]
  },
  {
   "cell_type": "code",
   "execution_count": 3,
   "id": "35700b50",
   "metadata": {
    "scrolled": true
   },
   "outputs": [
    {
     "data": {
      "text/plain": [
       "Format.[Format]            object\n",
       "Version.[Version Name]     object\n",
       "Time.[Week]                object\n",
       "Sales Domain.[Channel]     object\n",
       "Location.[Location]        object\n",
       "Item.[Planning Item]       object\n",
       "Item.[Division]            object\n",
       "Total Sales Units           int64\n",
       "ASP                       float64\n",
       "dtype: object"
      ]
     },
     "execution_count": 3,
     "metadata": {},
     "output_type": "execute_result"
    }
   ],
   "source": [
    "# check the data types\n",
    "data.dtypes"
   ]
  },
  {
   "cell_type": "code",
   "execution_count": null,
   "id": "c2bd1c85",
   "metadata": {},
   "outputs": [],
   "source": []
  },
  {
   "cell_type": "code",
   "execution_count": 6,
   "id": "0bea0e50",
   "metadata": {},
   "outputs": [
    {
     "data": {
      "text/plain": [
       "MENS      56554\n",
       "WOMENS    32381\n",
       "KIDS      25168\n",
       "UNISEX     8150\n",
       "Name: Item.[Gender MC], dtype: int64"
      ]
     },
     "execution_count": 6,
     "metadata": {},
     "output_type": "execute_result"
    }
   ],
   "source": [
    "data['Item.[Gender MC]'].value_counts()"
   ]
  },
  {
   "cell_type": "code",
   "execution_count": 7,
   "id": "40a31a0d",
   "metadata": {},
   "outputs": [
    {
     "data": {
      "text/plain": [
       "1|NIKE|NIKE|MENS|FOOTWEAR|SPORTSWEAR                          9110\n",
       "1|NIKE|NIKE|WOMENS|FOOTWEAR|SPORTSWEAR                        6344\n",
       "1|NIKE|NIKE|KIDS|FOOTWEAR|SPORTSWEAR                          6005\n",
       "1|NIKE|NIKE|MENS|FOOTWEAR|BASKETBALL                          5173\n",
       "1|NIKE|NIKE|MENS|FOOTWEAR|RUNNING                             4246\n",
       "                                                              ... \n",
       "1|SKCH|SKECHERS|UNISEX|FOOTWEAR|CASUAL WEAR& DENIM               1\n",
       "1|TMBL|TIMBERLAND|UNISEX|FOOTWEAR|BASKETBALL                     1\n",
       "1|VANS|VANS EUROPE|UNISEX|FOOTWEAR|BASKETBALL                    1\n",
       "1|GYMK|GYM KING|MENS|FOOTWEAR|OTHER SPORTS                       1\n",
       "1|ABCF|ABERCROMBIE &FITCH|MENS|FOOTWEAR|CASUAL WEAR& DENIM       1\n",
       "Name: Item.[L4], Length: 627, dtype: int64"
      ]
     },
     "execution_count": 7,
     "metadata": {},
     "output_type": "execute_result"
    }
   ],
   "source": [
    "data['Item.[L4]'].value_counts()"
   ]
  },
  {
   "cell_type": "code",
   "execution_count": 8,
   "id": "9a327322",
   "metadata": {},
   "outputs": [
    {
     "data": {
      "text/plain": [
       "1|NIKE|NIKE                    50810\n",
       "1|ADIS|ADIDAS                  16332\n",
       "1|VANS|VANS EUROPE              9197\n",
       "1|TMBL|TIMBERLAND               6074\n",
       "1|PUMA|PUMA                     5267\n",
       "                               ...  \n",
       "1|DCKS|DICKIES                     1\n",
       "1|NENI|ENI NIKE ACCESSORIES        1\n",
       "1|GRIM|GRIMEY WEAR                 1\n",
       "1|TRKG|TRIBEKING                   1\n",
       "1|ABCF|ABERCROMBIE &FITCH          1\n",
       "Name: Item.[L7], Length: 87, dtype: int64"
      ]
     },
     "execution_count": 8,
     "metadata": {},
     "output_type": "execute_result"
    }
   ],
   "source": [
    "data['Item.[L7]'].value_counts()"
   ]
  },
  {
   "cell_type": "code",
   "execution_count": 10,
   "id": "9bb43721",
   "metadata": {},
   "outputs": [
    {
     "data": {
      "text/plain": [
       "SPRG    47381\n",
       "FALL    44422\n",
       "HOLI    14898\n",
       "SUMR    13712\n",
       "CORE     1840\n",
       "Name: Item.[Season], dtype: int64"
      ]
     },
     "execution_count": 10,
     "metadata": {},
     "output_type": "execute_result"
    }
   ],
   "source": [
    "data['Item.[Season]'].value_counts()"
   ]
  },
  {
   "cell_type": "code",
   "execution_count": 11,
   "id": "972c1f57",
   "metadata": {},
   "outputs": [],
   "source": [
    "data1 = pd.read_csv('location master.csv')"
   ]
  },
  {
   "cell_type": "code",
   "execution_count": 13,
   "id": "2c1e3535",
   "metadata": {},
   "outputs": [
    {
     "data": {
      "text/html": [
       "<div>\n",
       "<style scoped>\n",
       "    .dataframe tbody tr th:only-of-type {\n",
       "        vertical-align: middle;\n",
       "    }\n",
       "\n",
       "    .dataframe tbody tr th {\n",
       "        vertical-align: top;\n",
       "    }\n",
       "\n",
       "    .dataframe thead th {\n",
       "        text-align: right;\n",
       "    }\n",
       "</style>\n",
       "<table border=\"1\" class=\"dataframe\">\n",
       "  <thead>\n",
       "    <tr style=\"text-align: right;\">\n",
       "      <th></th>\n",
       "      <th>Location.[Location]</th>\n",
       "      <th>Location.[Location City]</th>\n",
       "      <th>Location.[Location Country]</th>\n",
       "      <th>Location.[Shoppers Yield ATV]</th>\n",
       "      <th>Location.[StoreConcept]</th>\n",
       "      <th>Location.[StoreFormat]</th>\n",
       "    </tr>\n",
       "  </thead>\n",
       "  <tbody>\n",
       "    <tr>\n",
       "      <th>0</th>\n",
       "      <td>1001</td>\n",
       "      <td>DUBAI</td>\n",
       "      <td>UTD.ARAB EMIR.</td>\n",
       "      <td>36.342403</td>\n",
       "      <td>SSS</td>\n",
       "      <td>SSS</td>\n",
       "    </tr>\n",
       "    <tr>\n",
       "      <th>1</th>\n",
       "      <td>1002</td>\n",
       "      <td>DUBAI</td>\n",
       "      <td>UTD.ARAB EMIR.</td>\n",
       "      <td>35.766068</td>\n",
       "      <td>SSS</td>\n",
       "      <td>SSS</td>\n",
       "    </tr>\n",
       "    <tr>\n",
       "      <th>2</th>\n",
       "      <td>1003</td>\n",
       "      <td>DUBAI</td>\n",
       "      <td>UTD.ARAB EMIR.</td>\n",
       "      <td>0</td>\n",
       "      <td>SSS</td>\n",
       "      <td>SSS</td>\n",
       "    </tr>\n",
       "    <tr>\n",
       "      <th>3</th>\n",
       "      <td>1004</td>\n",
       "      <td>DUBAI</td>\n",
       "      <td>UTD.ARAB EMIR.</td>\n",
       "      <td>56.86772</td>\n",
       "      <td>FOL</td>\n",
       "      <td>FOL</td>\n",
       "    </tr>\n",
       "    <tr>\n",
       "      <th>4</th>\n",
       "      <td>1005</td>\n",
       "      <td>DUBAI</td>\n",
       "      <td>UTD.ARAB EMIR.</td>\n",
       "      <td>22.434917</td>\n",
       "      <td>SSS</td>\n",
       "      <td>SSS</td>\n",
       "    </tr>\n",
       "  </tbody>\n",
       "</table>\n",
       "</div>"
      ],
      "text/plain": [
       "  Location.[Location] Location.[Location City] Location.[Location Country]  \\\n",
       "0                1001                    DUBAI              UTD.ARAB EMIR.   \n",
       "1                1002                    DUBAI              UTD.ARAB EMIR.   \n",
       "2                1003                    DUBAI              UTD.ARAB EMIR.   \n",
       "3                1004                    DUBAI              UTD.ARAB EMIR.   \n",
       "4                1005                    DUBAI              UTD.ARAB EMIR.   \n",
       "\n",
       "  Location.[Shoppers Yield ATV] Location.[StoreConcept] Location.[StoreFormat]  \n",
       "0                     36.342403                     SSS                    SSS  \n",
       "1                     35.766068                     SSS                    SSS  \n",
       "2                             0                     SSS                    SSS  \n",
       "3                      56.86772                     FOL                    FOL  \n",
       "4                     22.434917                     SSS                    SSS  "
      ]
     },
     "execution_count": 13,
     "metadata": {},
     "output_type": "execute_result"
    }
   ],
   "source": [
    "data1.head()"
   ]
  },
  {
   "cell_type": "code",
   "execution_count": 15,
   "id": "654bc0ba",
   "metadata": {},
   "outputs": [
    {
     "data": {
      "text/plain": [
       "Location.[Location]              object\n",
       "Location.[Location City]         object\n",
       "Location.[Location Country]      object\n",
       "Location.[Shoppers Yield ATV]    object\n",
       "Location.[StoreConcept]          object\n",
       "Location.[StoreFormat]           object\n",
       "dtype: object"
      ]
     },
     "execution_count": 15,
     "metadata": {},
     "output_type": "execute_result"
    }
   ],
   "source": [
    "data1.dtypes\n"
   ]
  },
  {
   "cell_type": "code",
   "execution_count": 20,
   "id": "286fc91a",
   "metadata": {},
   "outputs": [
    {
     "data": {
      "text/plain": [
       "SSS              467\n",
       "NIKE             106\n",
       "SUPERCARE         87\n",
       "FOL               75\n",
       "RETAIL            46\n",
       "TMBL              38\n",
       "CLMB              29\n",
       "VANS              28\n",
       "NUTRITION         20\n",
       "RSH               19\n",
       "DROPKICK          18\n",
       "MONO              17\n",
       "KIDS              15\n",
       "NFS               14\n",
       "UARM              14\n",
       "NOFC              13\n",
       "WH                 7\n",
       "REBK               6\n",
       "STADIUM            6\n",
       "CONVERSE           6\n",
       "ARABELLA           3\n",
       "NUATH              2\n",
       "RISE               2\n",
       "JORDAN             2\n",
       "PED                1\n",
       "AI Clustering      1\n",
       "SOCIAL FOOT        1\n",
       "BLBG               1\n",
       "QUIKSILVER         1\n",
       "NWER               1\n",
       "ADIS               1\n",
       "BEACON             1\n",
       "BB                 1\n",
       "NAPA               1\n",
       "CB                 1\n",
       "KICKS LOUNGE       1\n",
       "MAD                1\n",
       "GOLF               1\n",
       "Name: Location.[StoreConcept], dtype: int64"
      ]
     },
     "execution_count": 20,
     "metadata": {},
     "output_type": "execute_result"
    }
   ],
   "source": [
    "data1['Location.[StoreConcept]'].value_counts()\n"
   ]
  },
  {
   "cell_type": "code",
   "execution_count": 21,
   "id": "ff7f7336",
   "metadata": {},
   "outputs": [
    {
     "data": {
      "text/plain": [
       "SSS              505\n",
       "NIKE             133\n",
       "MONO             125\n",
       "SUPERCARE         87\n",
       "FOL               76\n",
       "UARM              62\n",
       "RSH               35\n",
       "NUTRITION         20\n",
       "WH                 7\n",
       "ARABELLA           3\n",
       "AI Clustering      1\n",
       "Name: Location.[StoreFormat], dtype: int64"
      ]
     },
     "execution_count": 21,
     "metadata": {},
     "output_type": "execute_result"
    }
   ],
   "source": [
    "data1['Location.[StoreFormat]'].value_counts()"
   ]
  },
  {
   "cell_type": "code",
   "execution_count": 22,
   "id": "6dfbafa6",
   "metadata": {},
   "outputs": [],
   "source": [
    "data2 = pd.read_csv('sales_asp.csv')"
   ]
  },
  {
   "cell_type": "code",
   "execution_count": 23,
   "id": "ecdde3d1",
   "metadata": {},
   "outputs": [
    {
     "data": {
      "text/html": [
       "<div>\n",
       "<style scoped>\n",
       "    .dataframe tbody tr th:only-of-type {\n",
       "        vertical-align: middle;\n",
       "    }\n",
       "\n",
       "    .dataframe tbody tr th {\n",
       "        vertical-align: top;\n",
       "    }\n",
       "\n",
       "    .dataframe thead th {\n",
       "        text-align: right;\n",
       "    }\n",
       "</style>\n",
       "<table border=\"1\" class=\"dataframe\">\n",
       "  <thead>\n",
       "    <tr style=\"text-align: right;\">\n",
       "      <th></th>\n",
       "      <th>Format.[Format]</th>\n",
       "      <th>Version.[Version Name]</th>\n",
       "      <th>Time.[Week]</th>\n",
       "      <th>Sales Domain.[Channel]</th>\n",
       "      <th>Location.[Location]</th>\n",
       "      <th>Item.[Planning Item]</th>\n",
       "      <th>Item.[Division]</th>\n",
       "      <th>Total Sales Units</th>\n",
       "      <th>ASP</th>\n",
       "    </tr>\n",
       "  </thead>\n",
       "  <tbody>\n",
       "    <tr>\n",
       "      <th>0</th>\n",
       "      <td>FOL</td>\n",
       "      <td>CurrentWorkingView</td>\n",
       "      <td>Jan WK01 2021</td>\n",
       "      <td>CLEARANCE</td>\n",
       "      <td>1028</td>\n",
       "      <td>ADEF0309|OWNTHEGAME K</td>\n",
       "      <td>FOOTWEAR</td>\n",
       "      <td>1</td>\n",
       "      <td>227.62</td>\n",
       "    </tr>\n",
       "    <tr>\n",
       "      <th>1</th>\n",
       "      <td>FOL</td>\n",
       "      <td>CurrentWorkingView</td>\n",
       "      <td>Jan WK01 2021</td>\n",
       "      <td>CLEARANCE</td>\n",
       "      <td>1041</td>\n",
       "      <td>ADEF0309|OWNTHEGAME K</td>\n",
       "      <td>FOOTWEAR</td>\n",
       "      <td>1</td>\n",
       "      <td>227.62</td>\n",
       "    </tr>\n",
       "    <tr>\n",
       "      <th>2</th>\n",
       "      <td>FOL</td>\n",
       "      <td>CurrentWorkingView</td>\n",
       "      <td>Jan WK01 2021</td>\n",
       "      <td>CLEARANCE</td>\n",
       "      <td>1403</td>\n",
       "      <td>ADEF0309|OWNTHEGAME K</td>\n",
       "      <td>FOOTWEAR</td>\n",
       "      <td>1</td>\n",
       "      <td>227.62</td>\n",
       "    </tr>\n",
       "    <tr>\n",
       "      <th>3</th>\n",
       "      <td>FOL</td>\n",
       "      <td>CurrentWorkingView</td>\n",
       "      <td>Jan WK01 2021</td>\n",
       "      <td>CLEARANCE</td>\n",
       "      <td>1004</td>\n",
       "      <td>ADFW4566|OWNTHEGAME K</td>\n",
       "      <td>FOOTWEAR</td>\n",
       "      <td>1</td>\n",
       "      <td>227.62</td>\n",
       "    </tr>\n",
       "    <tr>\n",
       "      <th>4</th>\n",
       "      <td>FOL</td>\n",
       "      <td>CurrentWorkingView</td>\n",
       "      <td>Jan WK01 2021</td>\n",
       "      <td>CLEARANCE</td>\n",
       "      <td>1071</td>\n",
       "      <td>ADFW4566|OWNTHEGAME K</td>\n",
       "      <td>FOOTWEAR</td>\n",
       "      <td>1</td>\n",
       "      <td>227.62</td>\n",
       "    </tr>\n",
       "  </tbody>\n",
       "</table>\n",
       "</div>"
      ],
      "text/plain": [
       "  Format.[Format] Version.[Version Name]    Time.[Week]  \\\n",
       "0             FOL     CurrentWorkingView  Jan WK01 2021   \n",
       "1             FOL     CurrentWorkingView  Jan WK01 2021   \n",
       "2             FOL     CurrentWorkingView  Jan WK01 2021   \n",
       "3             FOL     CurrentWorkingView  Jan WK01 2021   \n",
       "4             FOL     CurrentWorkingView  Jan WK01 2021   \n",
       "\n",
       "  Sales Domain.[Channel] Location.[Location]   Item.[Planning Item]  \\\n",
       "0              CLEARANCE                1028  ADEF0309|OWNTHEGAME K   \n",
       "1              CLEARANCE                1041  ADEF0309|OWNTHEGAME K   \n",
       "2              CLEARANCE                1403  ADEF0309|OWNTHEGAME K   \n",
       "3              CLEARANCE                1004  ADFW4566|OWNTHEGAME K   \n",
       "4              CLEARANCE                1071  ADFW4566|OWNTHEGAME K   \n",
       "\n",
       "  Item.[Division]  Total Sales Units     ASP  \n",
       "0        FOOTWEAR                  1  227.62  \n",
       "1        FOOTWEAR                  1  227.62  \n",
       "2        FOOTWEAR                  1  227.62  \n",
       "3        FOOTWEAR                  1  227.62  \n",
       "4        FOOTWEAR                  1  227.62  "
      ]
     },
     "execution_count": 23,
     "metadata": {},
     "output_type": "execute_result"
    }
   ],
   "source": [
    "data2.head()"
   ]
  },
  {
   "cell_type": "code",
   "execution_count": 24,
   "id": "4a45ada2",
   "metadata": {},
   "outputs": [
    {
     "data": {
      "text/plain": [
       "Format.[Format]            object\n",
       "Version.[Version Name]     object\n",
       "Time.[Week]                object\n",
       "Sales Domain.[Channel]     object\n",
       "Location.[Location]        object\n",
       "Item.[Planning Item]       object\n",
       "Item.[Division]            object\n",
       "Total Sales Units           int64\n",
       "ASP                       float64\n",
       "dtype: object"
      ]
     },
     "execution_count": 24,
     "metadata": {},
     "output_type": "execute_result"
    }
   ],
   "source": [
    "data2.dtypes"
   ]
  },
  {
   "cell_type": "code",
   "execution_count": 25,
   "id": "a08eb518",
   "metadata": {},
   "outputs": [
    {
     "data": {
      "text/plain": [
       "RETAIL       629912\n",
       "CLEARANCE    322096\n",
       "ECOM          96553\n",
       "OMNI             14\n",
       "Name: Sales Domain.[Channel], dtype: int64"
      ]
     },
     "execution_count": 25,
     "metadata": {},
     "output_type": "execute_result"
    }
   ],
   "source": [
    "data2['Sales Domain.[Channel]'].value_counts()"
   ]
  },
  {
   "cell_type": "code",
   "execution_count": 3,
   "id": "31a46ec9",
   "metadata": {},
   "outputs": [],
   "source": [
    "data3 = pd.read_csv('sales_asp.csv')"
   ]
  },
  {
   "cell_type": "code",
   "execution_count": 4,
   "id": "8aba01c4",
   "metadata": {},
   "outputs": [],
   "source": [
    "import pandas as pd \n",
    "import numpy as np"
   ]
  },
  {
   "cell_type": "code",
   "execution_count": 4,
   "id": "885b5c11",
   "metadata": {},
   "outputs": [
    {
     "data": {
      "text/html": [
       "<div>\n",
       "<style scoped>\n",
       "    .dataframe tbody tr th:only-of-type {\n",
       "        vertical-align: middle;\n",
       "    }\n",
       "\n",
       "    .dataframe tbody tr th {\n",
       "        vertical-align: top;\n",
       "    }\n",
       "\n",
       "    .dataframe thead th {\n",
       "        text-align: right;\n",
       "    }\n",
       "</style>\n",
       "<table border=\"1\" class=\"dataframe\">\n",
       "  <thead>\n",
       "    <tr style=\"text-align: right;\">\n",
       "      <th></th>\n",
       "      <th>Format.[Format]</th>\n",
       "      <th>Version.[Version Name]</th>\n",
       "      <th>Time.[Week]</th>\n",
       "      <th>Sales Domain.[Channel]</th>\n",
       "      <th>Location.[Location]</th>\n",
       "      <th>Item.[Planning Item]</th>\n",
       "      <th>Item.[Division]</th>\n",
       "      <th>Total Sales Units</th>\n",
       "      <th>ASP</th>\n",
       "    </tr>\n",
       "  </thead>\n",
       "  <tbody>\n",
       "    <tr>\n",
       "      <th>0</th>\n",
       "      <td>FOL</td>\n",
       "      <td>CurrentWorkingView</td>\n",
       "      <td>Jan WK01 2021</td>\n",
       "      <td>CLEARANCE</td>\n",
       "      <td>1028</td>\n",
       "      <td>ADEF0309|OWNTHEGAME K</td>\n",
       "      <td>FOOTWEAR</td>\n",
       "      <td>1</td>\n",
       "      <td>227.62</td>\n",
       "    </tr>\n",
       "    <tr>\n",
       "      <th>1</th>\n",
       "      <td>FOL</td>\n",
       "      <td>CurrentWorkingView</td>\n",
       "      <td>Jan WK01 2021</td>\n",
       "      <td>CLEARANCE</td>\n",
       "      <td>1041</td>\n",
       "      <td>ADEF0309|OWNTHEGAME K</td>\n",
       "      <td>FOOTWEAR</td>\n",
       "      <td>1</td>\n",
       "      <td>227.62</td>\n",
       "    </tr>\n",
       "    <tr>\n",
       "      <th>2</th>\n",
       "      <td>FOL</td>\n",
       "      <td>CurrentWorkingView</td>\n",
       "      <td>Jan WK01 2021</td>\n",
       "      <td>CLEARANCE</td>\n",
       "      <td>1403</td>\n",
       "      <td>ADEF0309|OWNTHEGAME K</td>\n",
       "      <td>FOOTWEAR</td>\n",
       "      <td>1</td>\n",
       "      <td>227.62</td>\n",
       "    </tr>\n",
       "    <tr>\n",
       "      <th>3</th>\n",
       "      <td>FOL</td>\n",
       "      <td>CurrentWorkingView</td>\n",
       "      <td>Jan WK01 2021</td>\n",
       "      <td>CLEARANCE</td>\n",
       "      <td>1004</td>\n",
       "      <td>ADFW4566|OWNTHEGAME K</td>\n",
       "      <td>FOOTWEAR</td>\n",
       "      <td>1</td>\n",
       "      <td>227.62</td>\n",
       "    </tr>\n",
       "    <tr>\n",
       "      <th>4</th>\n",
       "      <td>FOL</td>\n",
       "      <td>CurrentWorkingView</td>\n",
       "      <td>Jan WK01 2021</td>\n",
       "      <td>CLEARANCE</td>\n",
       "      <td>1071</td>\n",
       "      <td>ADFW4566|OWNTHEGAME K</td>\n",
       "      <td>FOOTWEAR</td>\n",
       "      <td>1</td>\n",
       "      <td>227.62</td>\n",
       "    </tr>\n",
       "  </tbody>\n",
       "</table>\n",
       "</div>"
      ],
      "text/plain": [
       "  Format.[Format] Version.[Version Name]    Time.[Week]  \\\n",
       "0             FOL     CurrentWorkingView  Jan WK01 2021   \n",
       "1             FOL     CurrentWorkingView  Jan WK01 2021   \n",
       "2             FOL     CurrentWorkingView  Jan WK01 2021   \n",
       "3             FOL     CurrentWorkingView  Jan WK01 2021   \n",
       "4             FOL     CurrentWorkingView  Jan WK01 2021   \n",
       "\n",
       "  Sales Domain.[Channel] Location.[Location]   Item.[Planning Item]  \\\n",
       "0              CLEARANCE                1028  ADEF0309|OWNTHEGAME K   \n",
       "1              CLEARANCE                1041  ADEF0309|OWNTHEGAME K   \n",
       "2              CLEARANCE                1403  ADEF0309|OWNTHEGAME K   \n",
       "3              CLEARANCE                1004  ADFW4566|OWNTHEGAME K   \n",
       "4              CLEARANCE                1071  ADFW4566|OWNTHEGAME K   \n",
       "\n",
       "  Item.[Division]  Total Sales Units     ASP  \n",
       "0        FOOTWEAR                  1  227.62  \n",
       "1        FOOTWEAR                  1  227.62  \n",
       "2        FOOTWEAR                  1  227.62  \n",
       "3        FOOTWEAR                  1  227.62  \n",
       "4        FOOTWEAR                  1  227.62  "
      ]
     },
     "execution_count": 4,
     "metadata": {},
     "output_type": "execute_result"
    }
   ],
   "source": [
    "data3.head()"
   ]
  },
  {
   "cell_type": "code",
   "execution_count": 5,
   "id": "915d370e",
   "metadata": {},
   "outputs": [
    {
     "data": {
      "text/plain": [
       "Format.[Format]            object\n",
       "Version.[Version Name]     object\n",
       "Time.[Week]                object\n",
       "Sales Domain.[Channel]     object\n",
       "Location.[Location]        object\n",
       "Item.[Planning Item]       object\n",
       "Item.[Division]            object\n",
       "Total Sales Units           int64\n",
       "ASP                       float64\n",
       "dtype: object"
      ]
     },
     "execution_count": 5,
     "metadata": {},
     "output_type": "execute_result"
    }
   ],
   "source": [
    "data3.dtypes"
   ]
  },
  {
   "cell_type": "code",
   "execution_count": 8,
   "id": "87998847",
   "metadata": {},
   "outputs": [
    {
     "data": {
      "text/plain": [
       "May WK02 2021    46637\n",
       "May WK05 2021    41566\n",
       "Jan WK01 2021    41125\n",
       "May WK04 2021    40665\n",
       "Mar WK04 2021    40628\n",
       "May WK01 2021    40494\n",
       "Jun WK01 2021    38658\n",
       "Jun WK04 2021    37831\n",
       "Jul WK02 2021    37267\n",
       "Mar WK03 2021    36918\n",
       "Jan WK02 2021    36495\n",
       "Jun WK02 2021    36400\n",
       "Jun WK03 2021    36378\n",
       "May WK03 2021    35299\n",
       "Jul WK01 2021    35155\n",
       "Apr WK01 2021    34217\n",
       "Jul WK03 2021    33096\n",
       "Jan WK04 2021    32421\n",
       "Mar WK02 2021    31479\n",
       "Aug WK01 2021    30893\n",
       "Jul WK04 2021    30148\n",
       "Apr WK04 2021    29907\n",
       "Feb WK05 2021    29709\n",
       "Jan WK03 2021    29639\n",
       "Mar WK01 2021    29237\n",
       "Feb WK04 2021    28549\n",
       "Feb WK01 2021    26129\n",
       "Feb WK02 2021    25663\n",
       "Apr WK02 2021    24766\n",
       "Feb WK03 2021    24701\n",
       "Apr WK03 2021    23829\n",
       "Aug WK02 2021     2676\n",
       "Name: Time.[Week], dtype: int64"
      ]
     },
     "execution_count": 8,
     "metadata": {},
     "output_type": "execute_result"
    }
   ],
   "source": [
    "data3['Time.[Week]'].value_counts()"
   ]
  },
  {
   "cell_type": "code",
   "execution_count": 10,
   "id": "6d6018ae",
   "metadata": {},
   "outputs": [
    {
     "data": {
      "text/plain": [
       "1      730237\n",
       "2      170786\n",
       "3       70745\n",
       "4       30439\n",
       "5       15665\n",
       "        ...  \n",
       "123         1\n",
       "87          1\n",
       "220         1\n",
       "113         1\n",
       "129         1\n",
       "Name: Total Sales Units, Length: 193, dtype: int64"
      ]
     },
     "execution_count": 10,
     "metadata": {},
     "output_type": "execute_result"
    }
   ],
   "source": [
    "data3['Total Sales Units'].value_counts()"
   ]
  },
  {
   "cell_type": "code",
   "execution_count": 5,
   "id": "d1601d26",
   "metadata": {},
   "outputs": [],
   "source": [
    "data4 = pd.read_csv('TimeDimension  edited.csv')"
   ]
  },
  {
   "cell_type": "code",
   "execution_count": 14,
   "id": "c5a1b2d9",
   "metadata": {},
   "outputs": [
    {
     "data": {
      "text/html": [
       "<div>\n",
       "<style scoped>\n",
       "    .dataframe tbody tr th:only-of-type {\n",
       "        vertical-align: middle;\n",
       "    }\n",
       "\n",
       "    .dataframe tbody tr th {\n",
       "        vertical-align: top;\n",
       "    }\n",
       "\n",
       "    .dataframe thead th {\n",
       "        text-align: right;\n",
       "    }\n",
       "</style>\n",
       "<table border=\"1\" class=\"dataframe\">\n",
       "  <thead>\n",
       "    <tr style=\"text-align: right;\">\n",
       "      <th></th>\n",
       "      <th>Time.[DayKey]</th>\n",
       "      <th>Time.[Day]</th>\n",
       "      <th>Time.[WeekKey]</th>\n",
       "      <th>Time.[Week]</th>\n",
       "    </tr>\n",
       "  </thead>\n",
       "  <tbody>\n",
       "    <tr>\n",
       "      <th>0</th>\n",
       "      <td>07-01-2017 00:00</td>\n",
       "      <td>01-Jul-17</td>\n",
       "      <td>6/25/2016 12:00:00 AM</td>\n",
       "      <td>Jun WK04 2016</td>\n",
       "    </tr>\n",
       "    <tr>\n",
       "      <th>1</th>\n",
       "      <td>07-02-2017 00:00</td>\n",
       "      <td>02-Jul-17</td>\n",
       "      <td>07-02-2017 00:00</td>\n",
       "      <td>Jul WK01 2017</td>\n",
       "    </tr>\n",
       "    <tr>\n",
       "      <th>2</th>\n",
       "      <td>07-03-2017 00:00</td>\n",
       "      <td>03-Jul-17</td>\n",
       "      <td>07-02-2017 00:00</td>\n",
       "      <td>Jul WK01 2017</td>\n",
       "    </tr>\n",
       "    <tr>\n",
       "      <th>3</th>\n",
       "      <td>07-04-2017 00:00</td>\n",
       "      <td>04-Jul-17</td>\n",
       "      <td>07-02-2017 00:00</td>\n",
       "      <td>Jul WK01 2017</td>\n",
       "    </tr>\n",
       "    <tr>\n",
       "      <th>4</th>\n",
       "      <td>07-05-2017 00:00</td>\n",
       "      <td>05-Jul-17</td>\n",
       "      <td>07-02-2017 00:00</td>\n",
       "      <td>Jul WK01 2017</td>\n",
       "    </tr>\n",
       "  </tbody>\n",
       "</table>\n",
       "</div>"
      ],
      "text/plain": [
       "      Time.[DayKey] Time.[Day]         Time.[WeekKey]    Time.[Week]\n",
       "0  07-01-2017 00:00  01-Jul-17  6/25/2016 12:00:00 AM  Jun WK04 2016\n",
       "1  07-02-2017 00:00  02-Jul-17       07-02-2017 00:00  Jul WK01 2017\n",
       "2  07-03-2017 00:00  03-Jul-17       07-02-2017 00:00  Jul WK01 2017\n",
       "3  07-04-2017 00:00  04-Jul-17       07-02-2017 00:00  Jul WK01 2017\n",
       "4  07-05-2017 00:00  05-Jul-17       07-02-2017 00:00  Jul WK01 2017"
      ]
     },
     "execution_count": 14,
     "metadata": {},
     "output_type": "execute_result"
    }
   ],
   "source": [
    "data4.head()"
   ]
  },
  {
   "cell_type": "code",
   "execution_count": 17,
   "id": "fa98ac08",
   "metadata": {},
   "outputs": [
    {
     "data": {
      "text/plain": [
       "Time.[DayKey]     object\n",
       "Time.[Day]        object\n",
       "Time.[WeekKey]    object\n",
       "Time.[Week]       object\n",
       "dtype: object"
      ]
     },
     "execution_count": 17,
     "metadata": {},
     "output_type": "execute_result"
    }
   ],
   "source": [
    "data4.dtypes"
   ]
  },
  {
   "cell_type": "code",
   "execution_count": 18,
   "id": "a610ba9b",
   "metadata": {},
   "outputs": [
    {
     "data": {
      "text/plain": [
       "07-01-2017 00:00          1\n",
       "11-05-2024 00:00          1\n",
       "10/23/2024 12:00:00 AM    1\n",
       "10/24/2024 12:00:00 AM    1\n",
       "10/25/2024 12:00:00 AM    1\n",
       "                         ..\n",
       "03-06-2021 00:00          1\n",
       "03-07-2021 00:00          1\n",
       "03-08-2021 00:00          1\n",
       "03-09-2021 00:00          1\n",
       "07-01-2028 00:00          1\n",
       "Name: Time.[DayKey], Length: 4019, dtype: int64"
      ]
     },
     "execution_count": 18,
     "metadata": {},
     "output_type": "execute_result"
    }
   ],
   "source": [
    "data4['Time.[DayKey]'].value_counts()"
   ]
  },
  {
   "cell_type": "code",
   "execution_count": 8,
   "id": "8f00887b",
   "metadata": {},
   "outputs": [
    {
     "data": {
      "text/plain": [
       "Dec WK04 2022    7\n",
       "Nov WK03 2024    7\n",
       "Oct WK01 2024    7\n",
       "Oct WK02 2024    7\n",
       "Oct WK03 2024    7\n",
       "                ..\n",
       "Feb WK05 2021    7\n",
       "Mar WK01 2021    7\n",
       "Mar WK02 2021    7\n",
       "Mar WK03 2021    7\n",
       "Jun WK04 2016    1\n",
       "Name: Time.[Week], Length: 575, dtype: int64"
      ]
     },
     "execution_count": 8,
     "metadata": {},
     "output_type": "execute_result"
    }
   ],
   "source": [
    "data4 ['Time.[Week]'].value_counts()"
   ]
  },
  {
   "cell_type": "code",
   "execution_count": null,
   "id": "aa6dcdfc",
   "metadata": {},
   "outputs": [],
   "source": []
  }
 ],
 "metadata": {
  "kernelspec": {
   "display_name": "Python 3 (ipykernel)",
   "language": "python",
   "name": "python3"
  },
  "language_info": {
   "codemirror_mode": {
    "name": "ipython",
    "version": 3
   },
   "file_extension": ".py",
   "mimetype": "text/x-python",
   "name": "python",
   "nbconvert_exporter": "python",
   "pygments_lexer": "ipython3",
   "version": "3.11.4"
  }
 },
 "nbformat": 4,
 "nbformat_minor": 5
}
